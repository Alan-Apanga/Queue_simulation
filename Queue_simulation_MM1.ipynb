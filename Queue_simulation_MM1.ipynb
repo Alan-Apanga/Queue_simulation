{
 "cells": [
  {
   "cell_type": "markdown",
   "id": "e84b29fa",
   "metadata": {},
   "source": [
    "# Problem Description\n",
    "\n",
    "Objective: Generate a Simulation model that outputs the performance measures, such as average length, average waiting time, utilization of the system, etc. to provide information for designing or improving service facilities.\n",
    "Data:\n",
    "* λ: the arrival rate (the expected number of consecutive arrivals per the same unit time, e.g. 1 minute)\n",
    "* μ: the service rate (the expected number of consecutive service completions per the same unit time, e.g. 1 minute)\n",
    "* the distribution of the data\n",
    "* c: the number of servers = 1"
   ]
  },
  {
   "cell_type": "code",
   "execution_count": 1,
   "id": "b1d7493f",
   "metadata": {},
   "outputs": [],
   "source": [
    "#Importing Libraries\n",
    "import numpy as np\n",
    "import pandas as pd\n",
    "import seaborn as sns\n",
    "import random\n",
    "import matplotlib.pyplot as plt\n",
    "import warnings\n",
    "warnings.simplefilter(\"ignore\")\n",
    "\n",
    "# set seed for reproducibility\n",
    "np.random.seed(0)\n",
    "\n"
   ]
  },
  {
   "cell_type": "code",
   "execution_count": 2,
   "id": "fa4e12e4",
   "metadata": {},
   "outputs": [],
   "source": [
    "#Single server queue simulation\n",
    "l = 1 # average number of arrivals per hour\n",
    "µ = 1.5 # average number of people served per hour\n",
    "ncust = 1000 # number of customers\n",
    "c = 1 # number of servers\n",
    "    "
   ]
  },
  {
   "cell_type": "markdown",
   "id": "fe33b61c",
   "metadata": {},
   "source": [
    "For this project the data will be generated using random number generation, in an actual study the rates should be modeled from real data to get more accurate results."
   ]
  },
  {
   "cell_type": "code",
   "execution_count": 3,
   "id": "26411843",
   "metadata": {},
   "outputs": [
    {
     "data": {
      "image/png": "[encoded data removed]",
      "text/plain": [
       "<Figure size 288x288 with 1 Axes>"
      ]
     },
     "metadata": {
      "needs_background": "light"
     },
     "output_type": "display_data"
    },
    {
     "data": {
      "image/png": "[encoded data removed]",
      "text/plain": [
       "<Figure size 288x288 with 1 Axes>"
      ]
     },
     "metadata": {
      "needs_background": "light"
     },
     "output_type": "display_data"
    }
   ],
   "source": [
    "# Generating inter arrival times using exponential distribution\n",
    "inter_arrival_times = list(np.random.exponential(scale=1/l,size=ncust))\n",
    "\n",
    "#plotting data\n",
    "plt.figure(figsize=(4,4))\n",
    "sns.distplot(inter_arrival_times, kde=False, color='r', bins=20)\n",
    "plt.title('Time between Arrivals')\n",
    "plt.xlabel('Hours')\n",
    "plt.ylabel('Frequency')\n",
    "sns.despine()\n",
    "plt.show()\n",
    "\n",
    "# Generate random service times for each customer \n",
    "service_times = list(np.random.exponential(scale=1/µ, size=ncust))\n",
    "\n",
    "#service time distribution plot\n",
    "plt.figure(figsize=(4,4))\n",
    "sns.distplot(service_times, kde=False, color='r', bins=20)\n",
    "plt.title('Service Times')\n",
    "plt.xlabel('Hours')\n",
    "plt.ylabel('Frequency')\n",
    "sns.despine()\n",
    "plt.show()\n"
   ]
  },
  {
   "cell_type": "code",
   "execution_count": 4,
   "id": "0f0e69f9",
   "metadata": {},
   "outputs": [],
   "source": [
    "arrival_times = [] # list of arrival times of a person joining the queue\n",
    "finish_times = [] # list of finish times after waiting and being served\n",
    "\n",
    "arrival_times = [0 for i in range(ncust)]\n",
    "finish_times = [0 for i in range(ncust)]\n",
    "\n",
    "arrival_times[0] = round(inter_arrival_times[0], 4) #arrival of first customer# \n",
    "\n",
    "# Generate arrival times\n",
    "for i in range(1, ncust):\n",
    "    arrival_times[i] = round((arrival_times[i-1] + inter_arrival_times[i]), 4)\n"
   ]
  },
  {
   "cell_type": "code",
   "execution_count": 5,
   "id": "fb6063b5",
   "metadata": {},
   "outputs": [],
   "source": [
    "#Generating finish times\n",
    "finish_times[0]= round((arrival_times[0] + service_times[0]),4)\n",
    "for i in range(1,ncust):\n",
    "    previous_finish=finish_times[:i]\n",
    "    previous_finish.sort(reverse=True)\n",
    "    previous_finish=previous_finish[:c]\n",
    "    if i< c:\n",
    "        finish_times[i] = round(arrival_times[i] + service_times[i],4)\n",
    "    else:\n",
    "        finish_times[i]=round((max(arrival_times[i],min(previous_finish))+service_times[i]),4)    "
   ]
  },
  {
   "cell_type": "code",
   "execution_count": 6,
   "id": "04b63f88",
   "metadata": {},
   "outputs": [],
   "source": [
    "# Total time spent in the system by each customer\n",
    "total_times =[abs(round((finish_times[i]-arrival_times[i]),4)) for i in range(ncust)]\n",
    "\n",
    "# Time spent waiting before being served (time spent in the queue)\n",
    "wait_times = [abs(round((total_times[i] - service_times[i]),4)) for i in range (ncust)]\n"
   ]
  },
  {
   "cell_type": "code",
   "execution_count": 7,
   "id": "8480bf29",
   "metadata": {},
   "outputs": [
    {
     "data": {
      "text/html": [
       "<div>\n",
       "<style scoped>\n",
       "    .dataframe tbody tr th:only-of-type {\n",
       "        vertical-align: middle;\n",
       "    }\n",
       "\n",
       "    .dataframe tbody tr th {\n",
       "        vertical-align: top;\n",
       "    }\n",
       "\n",
       "    .dataframe thead th {\n",
       "        text-align: right;\n",
       "    }\n",
       "</style>\n",
       "<table border=\"1\" class=\"dataframe\">\n",
       "  <thead>\n",
       "    <tr style=\"text-align: right;\">\n",
       "      <th></th>\n",
       "      <th>arrival_times</th>\n",
       "      <th>finish_times</th>\n",
       "      <th>service_times</th>\n",
       "      <th>total_times</th>\n",
       "      <th>wait_times</th>\n",
       "      <th>inter_arrival_times</th>\n",
       "    </tr>\n",
       "  </thead>\n",
       "  <tbody>\n",
       "    <tr>\n",
       "      <th>0</th>\n",
       "      <td>0.7959</td>\n",
       "      <td>1.3950</td>\n",
       "      <td>0.599099</td>\n",
       "      <td>0.5991</td>\n",
       "      <td>0.0000</td>\n",
       "      <td>0.795875</td>\n",
       "    </tr>\n",
       "    <tr>\n",
       "      <th>1</th>\n",
       "      <td>2.0518</td>\n",
       "      <td>2.0585</td>\n",
       "      <td>0.006743</td>\n",
       "      <td>0.0067</td>\n",
       "      <td>0.0000</td>\n",
       "      <td>1.255931</td>\n",
       "    </tr>\n",
       "    <tr>\n",
       "      <th>2</th>\n",
       "      <td>2.9750</td>\n",
       "      <td>3.4056</td>\n",
       "      <td>0.430621</td>\n",
       "      <td>0.4306</td>\n",
       "      <td>0.0000</td>\n",
       "      <td>0.923223</td>\n",
       "    </tr>\n",
       "    <tr>\n",
       "      <th>3</th>\n",
       "      <td>3.7622</td>\n",
       "      <td>4.5846</td>\n",
       "      <td>0.822429</td>\n",
       "      <td>0.8224</td>\n",
       "      <td>0.0000</td>\n",
       "      <td>0.787201</td>\n",
       "    </tr>\n",
       "    <tr>\n",
       "      <th>4</th>\n",
       "      <td>4.3132</td>\n",
       "      <td>4.6146</td>\n",
       "      <td>0.029981</td>\n",
       "      <td>0.3014</td>\n",
       "      <td>0.2714</td>\n",
       "      <td>0.551048</td>\n",
       "    </tr>\n",
       "  </tbody>\n",
       "</table>\n",
       "</div>"
      ],
      "text/plain": [
       "   arrival_times  finish_times  service_times  total_times  wait_times  \\\n",
       "0         0.7959        1.3950       0.599099       0.5991      0.0000   \n",
       "1         2.0518        2.0585       0.006743       0.0067      0.0000   \n",
       "2         2.9750        3.4056       0.430621       0.4306      0.0000   \n",
       "3         3.7622        4.5846       0.822429       0.8224      0.0000   \n",
       "4         4.3132        4.6146       0.029981       0.3014      0.2714   \n",
       "\n",
       "   inter_arrival_times  \n",
       "0             0.795875  \n",
       "1             1.255931  \n",
       "2             0.923223  \n",
       "3             0.787201  \n",
       "4             0.551048  "
      ]
     },
     "execution_count": 7,
     "metadata": {},
     "output_type": "execute_result"
    }
   ],
   "source": [
    "# creating a dataframe with all the data of the model\n",
    "#df = pd.DataFrame({'waiting_times':wait_times})\n",
    "df = pd.DataFrame(list(zip(arrival_times, finish_times, service_times, total_times, wait_times, inter_arrival_times)),\n",
    "                 columns =['arrival_times', 'finish_times', 'service_times', 'total_times', 'wait_times', 'inter_arrival_times' ])\n",
    "\n",
    "# print the first 5 rows of the data\n",
    "df.head()"
   ]
  },
  {
   "cell_type": "code",
   "execution_count": 8,
   "id": "7433d8d5",
   "metadata": {},
   "outputs": [
    {
     "data": {
      "image/png": "[encoded data removed]",
      "text/plain": [
       "<Figure size 864x288 with 1 Axes>"
      ]
     },
     "metadata": {
      "needs_background": "light"
     },
     "output_type": "display_data"
    }
   ],
   "source": [
    "# plotting Wait times\n",
    "plt.figure(figsize=(12,4))\n",
    "sns.lineplot(x=df.index, y=wait_times, color='blue').set(xticklabels=[])\n",
    "plt.xlabel('Customer number')\n",
    "plt.ylabel('Hours')\n",
    "plt.title('Wait time of customers')\n",
    "sns.despine()\n",
    "plt.show()"
   ]
  },
  {
   "cell_type": "code",
   "execution_count": 9,
   "id": "b5dfdc47",
   "metadata": {},
   "outputs": [
    {
     "data": {
      "text/html": [
       "<div>\n",
       "<style scoped>\n",
       "    .dataframe tbody tr th:only-of-type {\n",
       "        vertical-align: middle;\n",
       "    }\n",
       "\n",
       "    .dataframe tbody tr th {\n",
       "        vertical-align: top;\n",
       "    }\n",
       "\n",
       "    .dataframe thead th {\n",
       "        text-align: right;\n",
       "    }\n",
       "</style>\n",
       "<table border=\"1\" class=\"dataframe\">\n",
       "  <thead>\n",
       "    <tr style=\"text-align: right;\">\n",
       "      <th></th>\n",
       "      <th>time</th>\n",
       "      <th>Timeline</th>\n",
       "    </tr>\n",
       "  </thead>\n",
       "  <tbody>\n",
       "    <tr>\n",
       "      <th>0</th>\n",
       "      <td>0.0000</td>\n",
       "      <td>simulation starts</td>\n",
       "    </tr>\n",
       "    <tr>\n",
       "      <th>1</th>\n",
       "      <td>0.7959</td>\n",
       "      <td>customer 1 arrived</td>\n",
       "    </tr>\n",
       "    <tr>\n",
       "      <th>2</th>\n",
       "      <td>1.3950</td>\n",
       "      <td>customer 1 left</td>\n",
       "    </tr>\n",
       "    <tr>\n",
       "      <th>3</th>\n",
       "      <td>2.0518</td>\n",
       "      <td>customer 2 arrived</td>\n",
       "    </tr>\n",
       "    <tr>\n",
       "      <th>4</th>\n",
       "      <td>2.0585</td>\n",
       "      <td>customer 2 left</td>\n",
       "    </tr>\n",
       "  </tbody>\n",
       "</table>\n",
       "</div>"
      ],
      "text/plain": [
       "     time            Timeline\n",
       "0  0.0000   simulation starts\n",
       "1  0.7959  customer 1 arrived\n",
       "2  1.3950     customer 1 left\n",
       "3  2.0518  customer 2 arrived\n",
       "4  2.0585     customer 2 left"
      ]
     },
     "execution_count": 9,
     "metadata": {},
     "output_type": "execute_result"
    }
   ],
   "source": [
    "tbe = list([0])\n",
    "timeline = ['simulation starts']\n",
    "for i in range(0, ncust):\n",
    "    tbe.append(df['arrival_times'][i])\n",
    "    tbe.append(df['finish_times'][i])\n",
    "    timeline.append('customer ' +str(i+1)+ ' arrived')\n",
    "    timeline.append('customer ' +str(i+1)+ ' left')\n",
    "    \n",
    "\n",
    "# generating a dataframe with the timeline and description of events\n",
    "\n",
    "timeline = pd.DataFrame(list(zip(tbe, timeline)),\n",
    "                        columns = ['time', 'Timeline']).sort_values(by = 'time').reset_index()\n",
    "\n",
    "timeline = timeline.drop(columns='index')\n",
    "\n",
    "# printing the first 5 rows of the data\n",
    "timeline.head()"
   ]
  },
  {
   "cell_type": "code",
   "execution_count": 10,
   "id": "353839a5",
   "metadata": {},
   "outputs": [],
   "source": [
    "# generating the number of customers inside the system at any given time of the simulation\n",
    "\n",
    "timeline['n'] = 0\n",
    "x=0\n",
    "for i in range(1,(2*ncust)-1):\n",
    "    if len((timeline.Timeline[i]).split()) > 2:\n",
    "        z = str(timeline['Timeline'][i]).split()[2]\n",
    "    else:\n",
    "        continue\n",
    "    if z == 'arrived':\n",
    "        x = x + 1\n",
    "        timeline['n'][i] = x\n",
    "    else:\n",
    "        x = x-1\n",
    "        if x == -1:\n",
    "            x = 0\n",
    "            timeline['n'][i] = x\n",
    "        \n",
    "   "
   ]
  },
  {
   "cell_type": "code",
   "execution_count": 11,
   "id": "f1811aa1",
   "metadata": {},
   "outputs": [],
   "source": [
    "# computing time between events\n",
    "t = list()\n",
    "for i in timeline.index:\n",
    "    if i == (2*ncust) - 2:\n",
    "        continue\n",
    "    if i < 2*ncust:\n",
    "        x = timeline.time[i+1]\n",
    "    else:\n",
    "        x = timeline.time[i]\n",
    "    y = timeline.time[i]\n",
    "    t.append(round((x-y), 4))\n",
    "\n",
    "t.append(0)\n",
    "timeline['tbe'] = t\n",
    "    "
   ]
  },
  {
   "cell_type": "code",
   "execution_count": 12,
   "id": "a62b7bab",
   "metadata": {},
   "outputs": [
    {
     "data": {
      "text/html": [
       "<div>\n",
       "<style scoped>\n",
       "    .dataframe tbody tr th:only-of-type {\n",
       "        vertical-align: middle;\n",
       "    }\n",
       "\n",
       "    .dataframe tbody tr th {\n",
       "        vertical-align: top;\n",
       "    }\n",
       "\n",
       "    .dataframe thead th {\n",
       "        text-align: right;\n",
       "    }\n",
       "</style>\n",
       "<table border=\"1\" class=\"dataframe\">\n",
       "  <thead>\n",
       "    <tr style=\"text-align: right;\">\n",
       "      <th></th>\n",
       "      <th>time</th>\n",
       "      <th>Timeline</th>\n",
       "      <th>n</th>\n",
       "      <th>tbe</th>\n",
       "    </tr>\n",
       "  </thead>\n",
       "  <tbody>\n",
       "    <tr>\n",
       "      <th>0</th>\n",
       "      <td>0.0000</td>\n",
       "      <td>simulation starts</td>\n",
       "      <td>0</td>\n",
       "      <td>0.7959</td>\n",
       "    </tr>\n",
       "    <tr>\n",
       "      <th>1</th>\n",
       "      <td>0.7959</td>\n",
       "      <td>customer 1 arrived</td>\n",
       "      <td>1</td>\n",
       "      <td>0.5991</td>\n",
       "    </tr>\n",
       "    <tr>\n",
       "      <th>2</th>\n",
       "      <td>1.3950</td>\n",
       "      <td>customer 1 left</td>\n",
       "      <td>0</td>\n",
       "      <td>0.6568</td>\n",
       "    </tr>\n",
       "    <tr>\n",
       "      <th>3</th>\n",
       "      <td>2.0518</td>\n",
       "      <td>customer 2 arrived</td>\n",
       "      <td>1</td>\n",
       "      <td>0.0067</td>\n",
       "    </tr>\n",
       "    <tr>\n",
       "      <th>4</th>\n",
       "      <td>2.0585</td>\n",
       "      <td>customer 2 left</td>\n",
       "      <td>0</td>\n",
       "      <td>0.9165</td>\n",
       "    </tr>\n",
       "  </tbody>\n",
       "</table>\n",
       "</div>"
      ],
      "text/plain": [
       "     time            Timeline  n     tbe\n",
       "0  0.0000   simulation starts  0  0.7959\n",
       "1  0.7959  customer 1 arrived  1  0.5991\n",
       "2  1.3950     customer 1 left  0  0.6568\n",
       "3  2.0518  customer 2 arrived  1  0.0067\n",
       "4  2.0585     customer 2 left  0  0.9165"
      ]
     },
     "execution_count": 12,
     "metadata": {},
     "output_type": "execute_result"
    }
   ],
   "source": [
    "#show results\n",
    "timeline.head()"
   ]
  },
  {
   "cell_type": "code",
   "execution_count": 13,
   "id": "ad116bad",
   "metadata": {},
   "outputs": [
    {
     "data": {
      "text/plain": [
       "n\n",
       "0     0.594672\n",
       "1     0.118800\n",
       "2     0.071186\n",
       "3     0.041728\n",
       "4     0.042240\n",
       "5     0.033914\n",
       "6     0.023136\n",
       "7     0.026194\n",
       "8     0.016830\n",
       "9     0.007583\n",
       "10    0.005321\n",
       "11    0.002999\n",
       "12    0.005447\n",
       "13    0.000959\n",
       "14    0.003017\n",
       "15    0.003496\n",
       "16    0.001231\n",
       "17    0.001247\n",
       "Name: tbe, dtype: float64"
      ]
     },
     "execution_count": 13,
     "metadata": {},
     "output_type": "execute_result"
    }
   ],
   "source": [
    "# computing the probability and time spent of 'n' customers in the system\n",
    "\n",
    "Pn = timeline.groupby('n').tbe.agg(sum)/sum(t)\n",
    "Tn = timeline.groupby('n').tbe.agg('count')\n",
    "timeline.groupby('n').tbe.agg(sum)/sum(t)\n"
   ]
  },
  {
   "cell_type": "code",
   "execution_count": 14,
   "id": "3eaf226e",
   "metadata": {},
   "outputs": [
    {
     "data": {
      "image/png": "[encoded data removed]",
      "text/plain": [
       "<Figure size 576x576 with 1 Axes>"
      ]
     },
     "metadata": {
      "needs_background": "light"
     },
     "output_type": "display_data"
    }
   ],
   "source": [
    "# plotting results\n",
    "plt.figure(figsize=(8,8))\n",
    "sns.barplot(x=Pn.index, y=Pn, color='g')\n",
    "plt.title('Probability of n customers in the system')\n",
    "plt.xlabel('number of customers')\n",
    "plt.ylabel('Probability')\n",
    "sns.despine()\n",
    "plt.show()"
   ]
  },
  {
   "cell_type": "code",
   "execution_count": 15,
   "id": "2a6ee023",
   "metadata": {},
   "outputs": [
    {
     "data": {
      "image/png": "[encoded data removed]",
      "text/plain": [
       "<Figure size 504x504 with 1 Axes>"
      ]
     },
     "metadata": {
      "needs_background": "light"
     },
     "output_type": "display_data"
    }
   ],
   "source": [
    "plt.figure(figsize=(7,7))\n",
    "sns.barplot(['Idle','Occupied'],[Pn[0],1-Pn[0]],color='mediumpurple')\n",
    "plt.title('Utilization %')\n",
    "plt.xlabel('System state')\n",
    "plt.ylabel('Probability')\n",
    "sns.despine()\n",
    "plt.show()"
   ]
  },
  {
   "cell_type": "code",
   "execution_count": 16,
   "id": "17259687",
   "metadata": {},
   "outputs": [],
   "source": [
    "# computing expected number of customers in the system\n",
    "Ls = (sum(Pn*Pn.index))\n",
    "\n",
    "#computing expected customers waiting in line\n",
    "Lq = sum((Pn.index[c+1:]-1)*(Pn[c+1:]))"
   ]
  },
  {
   "cell_type": "code",
   "execution_count": 17,
   "id": "61e39b36",
   "metadata": {},
   "outputs": [
    {
     "name": "stdout",
     "output_type": "stream",
     "text": [
      "Output: \n",
      " Servers: 1 \n",
      "Time Between Arrivals :  1.003540208760709 \n",
      " Service Time: (1/µ) 0.7107006852820134 \n",
      " Utilization (c):  0.4053280567972184 \n",
      " Expected wait time in line (Wq): 1.9202734000000001 \n",
      " Expected time spent on the system (Ws): 2.6309737999999996 \n",
      " Expected number of customers in line (Lq): 1.144226792753855 \n",
      " Expected number of clients in the system (Ls): 1.5495548495510734 \n",
      " \n"
     ]
    }
   ],
   "source": [
    "# Model Results\n",
    "print('Output:','\\n',\n",
    "      'Servers: '+str(c), '\\n'\n",
    "      'Time Between Arrivals : ',str(df.inter_arrival_times.mean()),'\\n',\n",
    "      'Service Time: (1/µ)',str(df.service_times.mean()),'\\n'\n",
    "      ' Utilization (c): ',str((Ls-Lq)/c),'\\n',\n",
    "      'Expected wait time in line (Wq):',str(df['wait_times'].mean()),'\\n',\n",
    "      'Expected time spent on the system (Ws):',str(df.total_times.mean()),'\\n',\n",
    "      'Expected number of customers in line (Lq):',str(Lq),'\\n',\n",
    "      'Expected number of clients in the system (Ls):',str(Ls),'\\n ')\n",
    "      "
   ]
  },
  {
   "cell_type": "code",
   "execution_count": null,
   "id": "bf6964ef",
   "metadata": {},
   "outputs": [],
   "source": []
  }
 ],
 "metadata": {
  "kernelspec": {
   "display_name": "Python 3 (ipykernel)",
   "language": "python",
   "name": "python3"
  },
  "language_info": {
   "codemirror_mode": {
    "name": "ipython",
    "version": 3
   },
   "file_extension": ".py",
   "mimetype": "text/x-python",
   "name": "python",
   "nbconvert_exporter": "python",
   "pygments_lexer": "ipython3",
   "version": "3.10.5"
  }
 },
 "nbformat": 4,
 "nbformat_minor": 5
}
